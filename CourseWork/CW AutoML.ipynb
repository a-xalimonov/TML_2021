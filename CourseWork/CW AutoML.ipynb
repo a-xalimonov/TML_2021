{
 "metadata": {
  "language_info": {
   "codemirror_mode": {
    "name": "ipython",
    "version": 3
   },
   "file_extension": ".py",
   "mimetype": "text/x-python",
   "name": "python",
   "nbconvert_exporter": "python",
   "pygments_lexer": "ipython3",
   "version": "3.9.5"
  },
  "orig_nbformat": 2,
  "kernelspec": {
   "name": "python395jvsc74a57bd0f2c9cb93d7a2fe5d635c3102aeee1974ac521887706e6fd46cf34bf7342c9ea4",
   "display_name": "Python 3.9.5 64-bit"
  },
  "metadata": {
   "interpreter": {
    "hash": "cd98d2a742feecdd63fc84ad3fc22147c326660e8985ce73260dc9fba1987ea1"
   }
  }
 },
 "nbformat": 4,
 "nbformat_minor": 2,
 "cells": [
  {
   "source": [
    "## Импорт библиотек"
   ],
   "cell_type": "markdown",
   "metadata": {}
  },
  {
   "cell_type": "code",
   "execution_count": 1,
   "metadata": {},
   "outputs": [],
   "source": [
    "import numpy as np\n",
    "import pandas as pd\n",
    "import seaborn as sns\n",
    "import matplotlib.pyplot as plt\n",
    "from sklearn.preprocessing import LabelEncoder\n",
    "from sklearn.model_selection import train_test_split\n",
    "from sklearn.metrics import accuracy_score, precision_score, recall_score, f1_score\n",
    "%matplotlib inline \n",
    "sns.set(style=\"ticks\")\n",
    "\n",
    "import country_converter as coco"
   ]
  },
  {
   "source": [
    "## Загрузка данных"
   ],
   "cell_type": "markdown",
   "metadata": {}
  },
  {
   "cell_type": "code",
   "execution_count": 2,
   "metadata": {},
   "outputs": [],
   "source": [
    "original_dataset = pd.read_csv('../worldcitiespop.csv', sep=\",\", low_memory=False)"
   ]
  },
  {
   "source": [
    "## Кодирование категориальных признаков"
   ],
   "cell_type": "markdown",
   "metadata": {}
  },
  {
   "cell_type": "code",
   "execution_count": 3,
   "metadata": {},
   "outputs": [],
   "source": [
    "enc = LabelEncoder()\n",
    "original_dataset[\"Country_encoded\"] = enc.fit_transform(original_dataset[\"Country\"])"
   ]
  },
  {
   "source": [
    "## Обработка пропусков данных"
   ],
   "cell_type": "markdown",
   "metadata": {}
  },
  {
   "source": [
    "original_dataset.isnull().sum()"
   ],
   "cell_type": "code",
   "metadata": {},
   "execution_count": 4,
   "outputs": [
    {
     "output_type": "execute_result",
     "data": {
      "text/plain": [
       "Country                  0\n",
       "City                     6\n",
       "AccentCity               0\n",
       "Region                   8\n",
       "Population         3125978\n",
       "Latitude                 0\n",
       "Longitude                0\n",
       "Country_encoded          0\n",
       "dtype: int64"
      ]
     },
     "metadata": {},
     "execution_count": 4
    }
   ]
  },
  {
   "cell_type": "code",
   "execution_count": 5,
   "metadata": {},
   "outputs": [
    {
     "output_type": "execute_result",
     "data": {
      "text/plain": [
       "Country            0\n",
       "City               0\n",
       "AccentCity         0\n",
       "Region             0\n",
       "Latitude           0\n",
       "Longitude          0\n",
       "Country_encoded    0\n",
       "dtype: int64"
      ]
     },
     "metadata": {},
     "execution_count": 5
    }
   ],
   "source": [
    "cleansed_dataset = original_dataset.drop(\"Population\", axis=1).dropna()\n",
    "cleansed_dataset.isnull().sum()"
   ]
  },
  {
   "source": [
    "## Уменьшение размера выборки"
   ],
   "cell_type": "markdown",
   "metadata": {}
  },
  {
   "cell_type": "code",
   "execution_count": 6,
   "metadata": {},
   "outputs": [
    {
     "output_type": "execute_result",
     "data": {
      "text/plain": [
       "(1000, 7)"
      ]
     },
     "metadata": {},
     "execution_count": 6
    }
   ],
   "source": [
    "reduced_dataset = cleansed_dataset.sample(n=1000, random_state=10)\n",
    "reduced_dataset.shape"
   ]
  },
  {
   "source": [
    "## Разбиение выборки на обучающую и тестовою"
   ],
   "cell_type": "markdown",
   "metadata": {}
  },
  {
   "cell_type": "code",
   "execution_count": 7,
   "metadata": {},
   "outputs": [
    {
     "output_type": "execute_result",
     "data": {
      "text/plain": [
       "((700, 2), (300, 2), (700,), (300,))"
      ]
     },
     "metadata": {},
     "execution_count": 7
    }
   ],
   "source": [
    "X = reduced_dataset[[\"Latitude\", \"Longitude\"]]\n",
    "Y = reduced_dataset[\"Country_encoded\"]\n",
    "X_train, X_test, Y_train, Y_test = train_test_split(X, Y, test_size=0.3, random_state=10)\n",
    "X_train.shape, X_test.shape, Y_train.shape, Y_test.shape"
   ]
  },
  {
   "source": [
    "## Использование библиотеки TPOT для автоматического подбора модели"
   ],
   "cell_type": "markdown",
   "metadata": {}
  },
  {
   "cell_type": "code",
   "execution_count": 12,
   "metadata": {},
   "outputs": [],
   "source": [
    "from tpot import TPOTClassifier\n",
    "pipeline_optimizer = TPOTClassifier(generations=10, population_size=20, cv=3, random_state=10, verbosity=2)"
   ]
  },
  {
   "cell_type": "code",
   "execution_count": 13,
   "metadata": {},
   "outputs": [
    {
     "output_type": "stream",
     "name": "stdout",
     "text": [
      "\n",
      "Generation 1 - Current best internal CV score: 0.7471112578408716\n",
      "\n",
      "Generation 2 - Current best internal CV score: 0.7471112578408716\n",
      "\n",
      "Generation 3 - Current best internal CV score: 0.7599867943215584\n",
      "\n",
      "Generation 4 - Current best internal CV score: 0.7599867943215584\n",
      "\n",
      "Generation 5 - Current best internal CV score: 0.7628480246505998\n",
      "\n",
      "Generation 6 - Current best internal CV score: 0.7628480246505998\n",
      "\n",
      "Generation 7 - Current best internal CV score: 0.7857134123228544\n",
      "\n",
      "Generation 8 - Current best internal CV score: 0.7857134123228544\n",
      "\n",
      "Generation 9 - Current best internal CV score: 0.7857134123228544\n",
      "\n",
      "Generation 10 - Current best internal CV score: 0.7857134123228544\n",
      "                                                                                \n",
      "Best pipeline: KNeighborsClassifier(input_matrix, n_neighbors=14, p=1, weights=distance)\n",
      "Wall time: 5h 56min 34s\n"
     ]
    },
    {
     "output_type": "execute_result",
     "data": {
      "text/plain": [
       "TPOTClassifier(cv=3, generations=10, population_size=20, random_state=10,\n",
       "               verbosity=2)"
      ]
     },
     "metadata": {},
     "execution_count": 13
    }
   ],
   "source": [
    "%%time\n",
    "pipeline_optimizer.fit(X_train, Y_train)"
   ]
  },
  {
   "cell_type": "code",
   "execution_count": 22,
   "metadata": {},
   "outputs": [
    {
     "output_type": "execute_result",
     "data": {
      "text/plain": [
       "KNeighborsClassifier(n_neighbors=14, p=1, weights='distance')"
      ]
     },
     "metadata": {},
     "execution_count": 22
    }
   ],
   "source": [
    "from sklearn.neighbors import KNeighborsClassifier\n",
    "knc = KNeighborsClassifier(n_neighbors=14, p=1, weights='distance')\n",
    "knc.fit(X_train, Y_train)"
   ]
  },
  {
   "cell_type": "code",
   "execution_count": 27,
   "metadata": {},
   "outputs": [
    {
     "output_type": "execute_result",
     "data": {
      "text/plain": [
       "(0.8610216450216451, 0.7666666666666667, 0.7972308903602368)"
      ]
     },
     "metadata": {},
     "execution_count": 27
    }
   ],
   "source": [
    "Y_pred = knc.predict(X_test)\n",
    "precision = precision_score(Y_pred, Y_test, average=\"weighted\", zero_division=0)\n",
    "recall = recall_score(Y_pred, Y_test, average=\"weighted\", zero_division=0)\n",
    "f1 = f1_score(Y_pred, Y_test, average=\"weighted\")\n",
    "precision, recall, f1"
   ]
  }
 ]
}